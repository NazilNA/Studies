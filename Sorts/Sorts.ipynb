{
 "cells": [
  {
   "cell_type": "markdown",
   "metadata": {},
   "source": [
    "### python"
   ]
  },
  {
   "cell_type": "markdown",
   "metadata": {},
   "source": [
    "# Sorting Algorithms\n",
    "\n",
    "This notebook demonstrates various sorting algorithms implemented in Python. Each section provides an explanation of the algorithm, followed by the code implementation and an example run.\n"
   ]
  },
  {
   "cell_type": "markdown",
   "metadata": {},
   "source": [
    "## Bubble Sort\n",
    "\n",
    "**Bubble Sort** is a simple comparison-based sorting algorithm. It repeatedly steps through the list, compares adjacent elements, and swaps them if they are in the wrong order. The process is repeated until the list is sorted.\n",
    "\n"
   ]
  },
  {
   "cell_type": "markdown",
   "metadata": {},
   "source": [
    "### Code Implementation"
   ]
  },
  {
   "cell_type": "code",
   "execution_count": 6,
   "metadata": {},
   "outputs": [
    {
     "name": "stdout",
     "output_type": "stream",
     "text": [
      "Sorted array: [2, 4, 4, 5, 6, 7, 8]\n"
     ]
    }
   ],
   "source": [
    "\n",
    "def bubble_sort(nums):\n",
    "    \"\"\"\n",
    "    Sorts a list of numbers using the bubble sort algorithm.\n",
    "    \n",
    "    Parameters:\n",
    "    nums (list): A list of numbers to be sorted.\n",
    "    \n",
    "    Returns:\n",
    "    list: The sorted list of numbers.\n",
    "    \"\"\"\n",
    "    for i in range(len(nums)):\n",
    "        for j in range(0, len(nums) - i - 1):\n",
    "            if nums[j] > nums[j + 1]:\n",
    "                nums[j], nums[j + 1] = nums[j + 1], nums[j]\n",
    "    return nums\n",
    "\n",
    "# Example usage:\n",
    "nums = [5, 4, 7, 6, 2, 8, 4]\n",
    "sorted_nums = bubble_sort(nums)\n",
    "print(\"Sorted array:\", sorted_nums)\n",
    "\n"
   ]
  },
  {
   "cell_type": "markdown",
   "metadata": {},
   "source": [
    "## Insertion Sort\n",
    "\n",
    "**Insertion Sort** is a simple comparison-based sorting algorithm. It builds the final sorted array one item at a time. It is much less efficient on large lists than more advanced algorithms such as quicksort, heap sort, or merge sort.\n"
   ]
  },
  {
   "cell_type": "markdown",
   "metadata": {},
   "source": [
    "\n",
    "### Code Implementation"
   ]
  },
  {
   "cell_type": "code",
   "execution_count": 7,
   "metadata": {},
   "outputs": [
    {
     "name": "stdout",
     "output_type": "stream",
     "text": [
      "Sorted array: [1, 2, 3, 4, 5, 6, 6, 7, 8]\n"
     ]
    }
   ],
   "source": [
    "def insertion_sort(arr):\n",
    "    \"\"\"\n",
    "    Sorts a list of numbers using the insertion sort algorithm.\n",
    "    \n",
    "    Parameters:\n",
    "    arr (list): A list of numbers to be sorted.\n",
    "    \n",
    "    Returns:\n",
    "    list: The sorted list of numbers.\n",
    "    \"\"\"\n",
    "    for i in range(1, len(arr)):\n",
    "        key = arr[i]\n",
    "        j = i - 1\n",
    "        while j >= 0 and arr[j] > key:\n",
    "            arr[j + 1] = arr[j]\n",
    "            j -= 1\n",
    "        arr[j + 1] = key\n",
    "    return arr\n",
    "\n",
    "# Example usage:\n",
    "arr = [5, 6, 8, 4, 6, 7, 2, 3, 1]\n",
    "sorted_arr = insertion_sort(arr)\n",
    "print(\"Sorted array:\", sorted_arr)"
   ]
  },
  {
   "cell_type": "markdown",
   "metadata": {},
   "source": [
    "## Selection Sort\n",
    "\n",
    "**Selection Sort** is an in-place comparison-based sorting algorithm. It divides the input list into two parts: a sorted subset at the beginning and an unsorted subset at the end. It repeatedly selects the smallest (or largest, depending on sorting order) element from the unsorted subset and moves it to the end of the sorted subset.\n"
   ]
  },
  {
   "cell_type": "markdown",
   "metadata": {},
   "source": [
    "\n",
    "### Code Implementation\n"
   ]
  },
  {
   "cell_type": "code",
   "execution_count": 8,
   "metadata": {},
   "outputs": [
    {
     "name": "stdout",
     "output_type": "stream",
     "text": [
      "Sorted array: [1, 2, 3, 4, 5, 6, 6, 7, 8]\n"
     ]
    }
   ],
   "source": [
    "def selection_sort(arr):\n",
    "    \"\"\"\n",
    "    Sorts a list of numbers using the selection sort algorithm.\n",
    "    \n",
    "    Parameters:\n",
    "    arr (list): A list of numbers to be sorted.\n",
    "    \n",
    "    Returns:\n",
    "    list: The sorted list of numbers.\n",
    "    \"\"\"\n",
    "    n = len(arr)\n",
    "    for i in range(n):\n",
    "        min_index = i\n",
    "        for j in range(i + 1, n):\n",
    "            if arr[j] < arr[min_index]:\n",
    "                min_index = j\n",
    "        arr[i], arr[min_index] = arr[min_index], arr[i]\n",
    "    return arr\n",
    "\n",
    "# Example usage:\n",
    "arr = [5, 6, 8, 4, 6, 7, 2, 3, 1]\n",
    "sorted_arr = selection_sort(arr)\n",
    "print(\"Sorted array:\", sorted_arr)"
   ]
  },
  {
   "cell_type": "markdown",
   "metadata": {},
   "source": [
    "## Quick Sort\n",
    "\n",
    "**Quick Sort** is an efficient, in-place sorting algorithm. It uses a divide-and-conquer approach to sort elements. It picks an element as a pivot and partitions the array around the pivot. The key process is the partitioning.\n"
   ]
  },
  {
   "cell_type": "markdown",
   "metadata": {},
   "source": [
    "### Code Implementation"
   ]
  },
  {
   "cell_type": "code",
   "execution_count": 9,
   "metadata": {},
   "outputs": [
    {
     "name": "stdout",
     "output_type": "stream",
     "text": [
      "Sorted array: [1, 2, 3, 4, 5, 6, 6, 7, 8]\n"
     ]
    }
   ],
   "source": [
    "def quick_sort(arr):\n",
    "    \"\"\"\n",
    "    Sorts a list of numbers using the quick sort algorithm.\n",
    "    \n",
    "    Parameters:\n",
    "    arr (list): A list of numbers to be sorted.\n",
    "    \n",
    "    Returns:\n",
    "    list: The sorted list of numbers.\n",
    "    \"\"\"\n",
    "    if len(arr) <= 1:\n",
    "        return arr\n",
    "    pivot = arr[len(arr) // 2]\n",
    "    left = [x for x in arr if x < pivot]\n",
    "    middle = [x for x in arr if x == pivot]\n",
    "    right = [x for x in arr if x > pivot]\n",
    "    return quick_sort(left) + middle + quick_sort(right)\n",
    "\n",
    "\n",
    "# Example usage:\n",
    "arr = [5, 6, 8, 4, 6, 7, 2, 3, 1]\n",
    "sorted_arr = quick_sort(arr)\n",
    "print(\"Sorted array:\", sorted_arr)"
   ]
  },
  {
   "cell_type": "markdown",
   "metadata": {},
   "source": [
    "## Merge Sort\n",
    "\n",
    "**Merge Sort** is a divide-and-conquer algorithm that divides the list into two halves, recursively sorts each half, and then merges the two sorted halves. It is known for its efficiency in handling large datasets.\n"
   ]
  },
  {
   "cell_type": "markdown",
   "metadata": {},
   "source": [
    "\n",
    "### Code Implementation\n"
   ]
  },
  {
   "cell_type": "code",
   "execution_count": 10,
   "metadata": {},
   "outputs": [
    {
     "name": "stdout",
     "output_type": "stream",
     "text": [
      "Sorted array: [5, 6, 7, 11, 12, 13]\n"
     ]
    }
   ],
   "source": [
    "def merge_sort(arr):\n",
    "    \"\"\"\n",
    "    Sorts a list of numbers using the merge sort algorithm.\n",
    "    \n",
    "    Parameters:\n",
    "    arr (list): A list of numbers to be sorted.\n",
    "    \n",
    "    Returns:\n",
    "    list: The sorted list of numbers.\n",
    "    \"\"\"\n",
    "    if len(arr) > 1:\n",
    "        mid = len(arr) // 2\n",
    "        left_half = arr[:mid]\n",
    "        right_half = arr[mid:]\n",
    "\n",
    "        merge_sort(left_half)\n",
    "        merge_sort(right_half)\n",
    "\n",
    "        i = j = k = 0\n",
    "\n",
    "        # Merge the two sorted halves\n",
    "        while i < len(left_half) and j < len(right_half):\n",
    "            if left_half[i] < right_half[j]:\n",
    "                arr[k] = left_half[i]\n",
    "                i += 1\n",
    "            else:\n",
    "                arr[k] = right_half[j]\n",
    "                j += 1\n",
    "            k += 1\n",
    "\n",
    "        # Check if any elements are left in left_half\n",
    "        while i < len(left_half):\n",
    "            arr[k] = left_half[i]\n",
    "            i += 1\n",
    "            k += 1\n",
    "\n",
    "        # Check if any elements are left in right_half\n",
    "        while j < len(right_half):\n",
    "            arr[k] = right_half[j]\n",
    "            j += 1\n",
    "            k += 1\n",
    "\n",
    "\n",
    "\n",
    "# Example usage:\n",
    "arr = [12, 11, 13, 5, 6, 7]\n",
    "merge_sort(arr)\n",
    "print(\"Sorted array:\", arr)"
   ]
  },
  {
   "cell_type": "markdown",
   "metadata": {},
   "source": [
    "\n",
    "### Summary\n",
    "\n",
    "This notebook provides implementations for several sorting algorithms. Each sorting method is explained, followed by code and example runs to illustrate its functionality.\n"
   ]
  }
 ],
 "metadata": {
  "kernelspec": {
   "display_name": "Python 3",
   "language": "python",
   "name": "python3"
  },
  "language_info": {
   "codemirror_mode": {
    "name": "ipython",
    "version": 3
   },
   "file_extension": ".py",
   "mimetype": "text/x-python",
   "name": "python",
   "nbconvert_exporter": "python",
   "pygments_lexer": "ipython3",
   "version": "3.12.1"
  }
 },
 "nbformat": 4,
 "nbformat_minor": 2
}
