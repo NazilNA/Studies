{
 "cells": [
  {
   "cell_type": "markdown",
   "metadata": {},
   "source": [
    "Let's start with an overview of some common searching algorithms, their explanations, and implementations in Python. We will discuss the following algorithms:\n",
    "\n",
    "#Linear Search\n",
    "#Binary Search"
   ]
  },
  {
   "cell_type": "markdown",
   "metadata": {},
   "source": [
    "## 1. Linear Search\n",
    "Explanation:\n",
    "Linear search is the simplest search algorithm. It checks each element in the list until it finds the target value or reaches the end of the list. This algorithm does not require the list to be sorted.\n",
    "\n",
    "# Time Complexity:\n",
    "Best case: <br>\n",
    "𝑂\n",
    "(\n",
    "1\n",
    ")<br>\n",
    "O(1)(when the target value is the first element)<br>\n",
    "Worst case:\n",
    "𝑂\n",
    "(\n",
    "𝑛\n",
    ")<br>\n",
    "O(n)(when the target value is not in the list or is the last element)<br>\n",
    "Average case: \n",
    "𝑂\n",
    "(\n",
    "𝑛\n",
    ")<br>\n",
    "O(n)\n",
    "\n",
    "#  Implementation in Python:\n"
   ]
  },
  {
   "cell_type": "code",
   "execution_count": 22,
   "metadata": {},
   "outputs": [
    {
     "name": "stdout",
     "output_type": "stream",
     "text": [
      "Element found at index: 2\n"
     ]
    }
   ],
   "source": [
    "def linear_search(arr, target):\n",
    "    for i in range(len(arr)):\n",
    "        if arr[i] == target:\n",
    "            return i\n",
    "    return -1\n",
    "\n",
    "# Example\n",
    "arr = [10, 20, 30, 40, 50]\n",
    "target = 30\n",
    "result = linear_search(arr, target)\n",
    "print(f\"Element found at index: {result}\")  # Output: Element found at index: 2\n"
   ]
  },
  {
   "cell_type": "markdown",
   "metadata": {},
   "source": [
    "## 2. Binary Search\n",
    "Explanation:\n",
    "Binary search is a more efficient search algorithm that works on sorted lists. It repeatedly divides the search interval in half. If the target value is less than the middle element, it narrows the interval to the lower half, otherwise to the upper half. This process continues until the target value is found or the interval is empty.\n",
    "\n",
    "# Time Complexity:\n",
    "Best case:\n",
    "𝑂\n",
    "(\n",
    "1\n",
    ")<br>\n",
    "O(1)(when the middle element is the target value)<br>\n",
    "Worst case:\n",
    "𝑂\n",
    "(\n",
    "log\n",
    "⁡\n",
    "𝑛\n",
    ")<br>\n",
    "O(logn)<br>\n",
    "Average case:\n",
    "𝑂\n",
    "(\n",
    "log\n",
    "⁡\n",
    "𝑛\n",
    ")<br>\n",
    "O(logn)<br>\n",
    "\n",
    "# Implementation in Python:\n"
   ]
  },
  {
   "cell_type": "code",
   "execution_count": 23,
   "metadata": {},
   "outputs": [
    {
     "name": "stdout",
     "output_type": "stream",
     "text": [
      "Element found at index: 2\n"
     ]
    }
   ],
   "source": [
    "def binary_search(arr, target):\n",
    "    left, right = 0, len(arr) - 1\n",
    "    while left <= right:\n",
    "        mid = (left + right) // 2\n",
    "        if arr[mid] == target:\n",
    "            return mid\n",
    "        elif arr[mid] < target:\n",
    "            left = mid + 1\n",
    "        else:\n",
    "            right = mid - 1\n",
    "    return -1\n",
    "\n",
    "# Example\n",
    "arr = [10, 20, 30, 40, 50]\n",
    "target = 30\n",
    "result = binary_search(arr, target)\n",
    "print(f\"Element found at index: {result}\")  # Output: Element found at index: 2\n"
   ]
  },
  {
   "cell_type": "markdown",
   "metadata": {},
   "source": [
    "# Recursive Binary Search Implementation:\n"
   ]
  },
  {
   "cell_type": "code",
   "execution_count": 24,
   "metadata": {},
   "outputs": [
    {
     "name": "stdout",
     "output_type": "stream",
     "text": [
      "Element found at index: 2\n"
     ]
    }
   ],
   "source": [
    "def binary_search_recursive(arr, target, left, right):\n",
    "    if left > right:\n",
    "        return -1\n",
    "    mid = (left + right) // 2\n",
    "    if arr[mid] == target:\n",
    "        return mid\n",
    "    elif arr[mid] < target:\n",
    "        return binary_search_recursive(arr, target, mid + 1, right)\n",
    "    else:\n",
    "        return binary_search_recursive(arr, target, left, mid - 1)\n",
    "\n",
    "# Example\n",
    "arr = [10, 20, 30, 40, 50]\n",
    "target = 30\n",
    "result = binary_search_recursive(arr, target, 0, len(arr) - 1)\n",
    "print(f\"Element found at index: {result}\")  # Output: Element found at index: 2\n"
   ]
  },
  {
   "cell_type": "markdown",
   "metadata": {},
   "source": [
    "These examples provide a foundation for understanding and implementing searching algorithms."
   ]
  }
 ],
 "metadata": {
  "kernelspec": {
   "display_name": "Python 3",
   "language": "python",
   "name": "python3"
  },
  "language_info": {
   "codemirror_mode": {
    "name": "ipython",
    "version": 3
   },
   "file_extension": ".py",
   "mimetype": "text/x-python",
   "name": "python",
   "nbconvert_exporter": "python",
   "pygments_lexer": "ipython3",
   "version": "3.12.1"
  }
 },
 "nbformat": 4,
 "nbformat_minor": 2
}
